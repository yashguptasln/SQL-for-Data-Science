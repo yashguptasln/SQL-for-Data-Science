{
 "cells": [
  {
   "cell_type": "code",
   "execution_count": 1,
   "metadata": {},
   "outputs": [],
   "source": [
    "#In order to work with a SQLite database from Python, we first have to connect to it. \n",
    "#We can do that using the connect function, which returns a Connection object:\n",
    "import sqlite3\n",
    "conn = sqlite3.connect(\"Courseera.db\")"
   ]
  },
  {
   "cell_type": "code",
   "execution_count": 2,
   "metadata": {},
   "outputs": [],
   "source": [
    "#Once we have a Connection object, we can then create a Cursor object. \n",
    "#Cursors allow us to execute SQL queries against a database:\n",
    "cur = conn.cursor()"
   ]
  },
  {
   "cell_type": "code",
   "execution_count": 3,
   "metadata": {},
   "outputs": [
    {
     "ename": "OperationalError",
     "evalue": "no such table: INSTRUCTOR",
     "output_type": "error",
     "traceback": [
      "\u001b[1;31m---------------------------------------------------------------------------\u001b[0m",
      "\u001b[1;31mOperationalError\u001b[0m                          Traceback (most recent call last)",
      "\u001b[1;32m<ipython-input-3-d7e1d178d09d>\u001b[0m in \u001b[0;36m<module>\u001b[1;34m\u001b[0m\n\u001b[1;32m----> 1\u001b[1;33m \u001b[0mcur\u001b[0m\u001b[1;33m.\u001b[0m\u001b[0mexecute\u001b[0m\u001b[1;33m(\u001b[0m\u001b[1;34m\"DROP TABLE INSTRUCTOR;\"\u001b[0m\u001b[1;33m)\u001b[0m\u001b[1;33m\u001b[0m\u001b[1;33m\u001b[0m\u001b[0m\n\u001b[0m",
      "\u001b[1;31mOperationalError\u001b[0m: no such table: INSTRUCTOR"
     ]
    }
   ],
   "source": [
    "#We can Cursor Object to execute a query against the database with execute method\n",
    "\n",
    "#Drop table INSTRUCTOR in case it already exists\n",
    "cur.execute(\"DROP TABLE INSTRUCTOR;\")"
   ]
  },
  {
   "cell_type": "code",
   "execution_count": 4,
   "metadata": {},
   "outputs": [
    {
     "data": {
      "text/plain": [
       "<sqlite3.Cursor at 0x1a30cc6c030>"
      ]
     },
     "execution_count": 4,
     "metadata": {},
     "output_type": "execute_result"
    }
   ],
   "source": [
    "#Create table INSTRUCTOR\n",
    "cur.execute(\"CREATE TABLE INSTRUCTOR(ins_id INTEGER, lastname VARCHAR(20), firstname VARCHAR(20), city VARCHAR(15), country VARCHAR(15));\")"
   ]
  },
  {
   "cell_type": "code",
   "execution_count": 5,
   "metadata": {},
   "outputs": [
    {
     "data": {
      "text/plain": [
       "<sqlite3.Cursor at 0x1a30cc6c030>"
      ]
     },
     "execution_count": 5,
     "metadata": {},
     "output_type": "execute_result"
    }
   ],
   "source": [
    "#Insert single row for Rav Ahuja\n",
    "cur.execute(\"INSERT INTO INSTRUCTOR VALUES (1,'Ahuja','Rav','Toronto','CA');\")\n",
    "#Insert the two rows for Raul and Hima\n",
    "cur.execute(\"INSERT INTO INSTRUCTOR VALUES (2,'Chong','Raul','Toronto','CA'),(3,'vasudevan','Hima','Chicago','US');\")"
   ]
  },
  {
   "cell_type": "code",
   "execution_count": 6,
   "metadata": {},
   "outputs": [
    {
     "name": "stdout",
     "output_type": "stream",
     "text": [
      "[(1, 'Ahuja', 'Rav', 'Toronto', 'CA'), (2, 'Chong', 'Raul', 'Toronto', 'CA'), (3, 'vasudevan', 'Hima', 'Chicago', 'US')]\n"
     ]
    }
   ],
   "source": [
    "# We can use the fetchall method to fetch all of the results of a query:\n",
    "result=cur.execute(\"select * from INSTRUCTOR\").fetchall()\n",
    "print(result)"
   ]
  },
  {
   "cell_type": "code",
   "execution_count": 9,
   "metadata": {},
   "outputs": [
    {
     "data": {
      "text/html": [
       "<div>\n",
       "<style scoped>\n",
       "    .dataframe tbody tr th:only-of-type {\n",
       "        vertical-align: middle;\n",
       "    }\n",
       "\n",
       "    .dataframe tbody tr th {\n",
       "        vertical-align: top;\n",
       "    }\n",
       "\n",
       "    .dataframe thead th {\n",
       "        text-align: right;\n",
       "    }\n",
       "</style>\n",
       "<table border=\"1\" class=\"dataframe\">\n",
       "  <thead>\n",
       "    <tr style=\"text-align: right;\">\n",
       "      <th></th>\n",
       "      <th>ins_id</th>\n",
       "      <th>lastname</th>\n",
       "      <th>firstname</th>\n",
       "      <th>city</th>\n",
       "      <th>country</th>\n",
       "    </tr>\n",
       "  </thead>\n",
       "  <tbody>\n",
       "    <tr>\n",
       "      <th>0</th>\n",
       "      <td>1</td>\n",
       "      <td>Ahuja</td>\n",
       "      <td>Rav</td>\n",
       "      <td>Toronto</td>\n",
       "      <td>CA</td>\n",
       "    </tr>\n",
       "    <tr>\n",
       "      <th>1</th>\n",
       "      <td>2</td>\n",
       "      <td>Chong</td>\n",
       "      <td>Raul</td>\n",
       "      <td>Toronto</td>\n",
       "      <td>CA</td>\n",
       "    </tr>\n",
       "    <tr>\n",
       "      <th>2</th>\n",
       "      <td>3</td>\n",
       "      <td>vasudevan</td>\n",
       "      <td>Hima</td>\n",
       "      <td>Chicago</td>\n",
       "      <td>US</td>\n",
       "    </tr>\n",
       "  </tbody>\n",
       "</table>\n",
       "</div>"
      ],
      "text/plain": [
       "   ins_id   lastname firstname     city country\n",
       "0       1      Ahuja       Rav  Toronto      CA\n",
       "1       2      Chong      Raul  Toronto      CA\n",
       "2       3  vasudevan      Hima  Chicago      US"
      ]
     },
     "execution_count": 9,
     "metadata": {},
     "output_type": "execute_result"
    }
   ],
   "source": [
    "#Reading results into a pandas DataFrame\n",
    "import pandas as pd\n",
    "df=pd.read_sql_query(\"select * from INSTRUCTOR;\",conn)\n",
    "df"
   ]
  },
  {
   "cell_type": "code",
   "execution_count": 10,
   "metadata": {},
   "outputs": [
    {
     "name": "stdout",
     "output_type": "stream",
     "text": [
      "[('Rav', 'Ahuja'), ('Raul', 'Chong')]\n"
     ]
    }
   ],
   "source": [
    "#Select firstname, lastname and country where city is Toronto\n",
    "result=cur.execute(\"SELECT firstname,lastname from INSTRUCTOR WHERE city='Toronto'\").fetchall()\n",
    "print(result)"
   ]
  },
  {
   "cell_type": "code",
   "execution_count": 15,
   "metadata": {},
   "outputs": [
    {
     "data": {
      "text/html": [
       "<div>\n",
       "<style scoped>\n",
       "    .dataframe tbody tr th:only-of-type {\n",
       "        vertical-align: middle;\n",
       "    }\n",
       "\n",
       "    .dataframe tbody tr th {\n",
       "        vertical-align: top;\n",
       "    }\n",
       "\n",
       "    .dataframe thead th {\n",
       "        text-align: right;\n",
       "    }\n",
       "</style>\n",
       "<table border=\"1\" class=\"dataframe\">\n",
       "  <thead>\n",
       "    <tr style=\"text-align: right;\">\n",
       "      <th></th>\n",
       "      <th>ins_id</th>\n",
       "      <th>lastname</th>\n",
       "      <th>firstname</th>\n",
       "      <th>city</th>\n",
       "      <th>country</th>\n",
       "    </tr>\n",
       "  </thead>\n",
       "  <tbody>\n",
       "    <tr>\n",
       "      <th>0</th>\n",
       "      <td>1</td>\n",
       "      <td>Ahuja</td>\n",
       "      <td>Rav</td>\n",
       "      <td>Markham</td>\n",
       "      <td>CA</td>\n",
       "    </tr>\n",
       "    <tr>\n",
       "      <th>1</th>\n",
       "      <td>2</td>\n",
       "      <td>Chong</td>\n",
       "      <td>Raul</td>\n",
       "      <td>Toronto</td>\n",
       "      <td>CA</td>\n",
       "    </tr>\n",
       "    <tr>\n",
       "      <th>2</th>\n",
       "      <td>3</td>\n",
       "      <td>vasudevan</td>\n",
       "      <td>Hima</td>\n",
       "      <td>Chicago</td>\n",
       "      <td>US</td>\n",
       "    </tr>\n",
       "  </tbody>\n",
       "</table>\n",
       "</div>"
      ],
      "text/plain": [
       "   ins_id   lastname firstname     city country\n",
       "0       1      Ahuja       Rav  Markham      CA\n",
       "1       2      Chong      Raul  Toronto      CA\n",
       "2       3  vasudevan      Hima  Chicago      US"
      ]
     },
     "execution_count": 15,
     "metadata": {},
     "output_type": "execute_result"
    }
   ],
   "source": [
    "#Change the city for Rav to Markham\n",
    "cur.execute(\"UPDATE INSTRUCTOR SET city='Markham' where lastname='Ahuja' and firstname='Rav';\")\n",
    "df=pd.read_sql_query(\"select * from INSTRUCTOR;\",conn)\n",
    "df"
   ]
  },
  {
   "cell_type": "code",
   "execution_count": 16,
   "metadata": {},
   "outputs": [],
   "source": [
    "#It's good practice to close Connection objects and Cursor objects.\n",
    "#This prevents the SQLite database from being locked.\n",
    "cur.close()\n",
    "conn.close()"
   ]
  }
 ],
 "metadata": {
  "kernelspec": {
   "display_name": "Python 3",
   "language": "python",
   "name": "python3"
  },
  "language_info": {
   "codemirror_mode": {
    "name": "ipython",
    "version": 3
   },
   "file_extension": ".py",
   "mimetype": "text/x-python",
   "name": "python",
   "nbconvert_exporter": "python",
   "pygments_lexer": "ipython3",
   "version": "3.6.10"
  }
 },
 "nbformat": 4,
 "nbformat_minor": 2
}
